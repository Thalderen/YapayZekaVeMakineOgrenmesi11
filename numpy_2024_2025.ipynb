{
  "nbformat": 4,
  "nbformat_minor": 0,
  "metadata": {
    "colab": {
      "provenance": [],
      "authorship_tag": "ABX9TyOEelSUNt+7pXfjRmui6KJC",
      "include_colab_link": true
    },
    "kernelspec": {
      "name": "python3",
      "display_name": "Python 3"
    },
    "language_info": {
      "name": "python"
    }
  },
  "cells": [
    {
      "cell_type": "markdown",
      "metadata": {
        "id": "view-in-github",
        "colab_type": "text"
      },
      "source": [
        "<a href=\"https://colab.research.google.com/github/Thalderen/yapay-zeka/blob/main/numpy_2024_2025.ipynb\" target=\"_parent\"><img src=\"https://colab.research.google.com/assets/colab-badge.svg\" alt=\"Open In Colab\"/></a>"
      ]
    },
    {
      "cell_type": "code",
      "execution_count": 6,
      "metadata": {
        "id": "YJD7czNaFfDF"
      },
      "outputs": [],
      "source": [
        "import numpy as np"
      ]
    },
    {
      "cell_type": "markdown",
      "source": [
        "1)(10,15,30,45,60)değerline sahip numpy dizisi oluştur"
      ],
      "metadata": {
        "id": "k_jspHJOHHJG"
      }
    },
    {
      "cell_type": "code",
      "source": [
        "result=np.array([10,15,30,45,60])\n",
        "result"
      ],
      "metadata": {
        "colab": {
          "base_uri": "https://localhost:8080/"
        },
        "id": "3QzU628oHWiP",
        "outputId": "94b2c9f3-50e7-4ff9-e036-1884917c4551"
      },
      "execution_count": 3,
      "outputs": [
        {
          "output_type": "execute_result",
          "data": {
            "text/plain": [
              "array([10, 15, 30, 45, 60])"
            ]
          },
          "metadata": {},
          "execution_count": 3
        }
      ]
    },
    {
      "cell_type": "markdown",
      "source": [
        "2)5-15 arasındaki sayılarla bi dizi oluştur"
      ],
      "metadata": {
        "id": "b0kiBuD8Hzsz"
      }
    },
    {
      "cell_type": "code",
      "source": [
        "result=np.arange(5,15)\n",
        "result"
      ],
      "metadata": {
        "colab": {
          "base_uri": "https://localhost:8080/"
        },
        "id": "W0YxH_7YH5Kf",
        "outputId": "68c8d3d1-aa81-4998-9747-ebffd1008ae0"
      },
      "execution_count": 4,
      "outputs": [
        {
          "output_type": "execute_result",
          "data": {
            "text/plain": [
              "array([ 5,  6,  7,  8,  9, 10, 11, 12, 13, 14])"
            ]
          },
          "metadata": {},
          "execution_count": 4
        }
      ]
    },
    {
      "cell_type": "markdown",
      "source": [
        "3)50-100 Arasında 5'er 5'er bir dizi oluştur"
      ],
      "metadata": {
        "id": "pLdbT6lOIYKa"
      }
    },
    {
      "cell_type": "code",
      "source": [
        "result=np.arange(50,100,5)\n",
        "result"
      ],
      "metadata": {
        "colab": {
          "base_uri": "https://localhost:8080/"
        },
        "id": "oDZ5UwmVIiXZ",
        "outputId": "55af3476-83c9-45c7-ada3-e74fdce2d307"
      },
      "execution_count": 5,
      "outputs": [
        {
          "output_type": "execute_result",
          "data": {
            "text/plain": [
              "array([50, 55, 60, 65, 70, 75, 80, 85, 90, 95])"
            ]
          },
          "metadata": {},
          "execution_count": 5
        }
      ]
    },
    {
      "cell_type": "markdown",
      "source": [
        "#4) 10 elemanlı sıfırdanlardan oluşan bi dizi oluştur\\"
      ],
      "metadata": {
        "id": "8Z-Y3umhIxdO"
      }
    },
    {
      "cell_type": "code",
      "source": [
        "result=np.arange(50,100,5)"
      ],
      "metadata": {
        "id": "XllyrgyEPUda"
      },
      "execution_count": 8,
      "outputs": []
    },
    {
      "cell_type": "markdown",
      "source": [
        "5)5-10 elamanlı birlerden oluşan bir dizi oluşturur"
      ],
      "metadata": {
        "id": "53bLN96VLbsN"
      }
    },
    {
      "cell_type": "code",
      "source": [
        "result =np.ones(10)"
      ],
      "metadata": {
        "id": "MvsremURPbP0"
      },
      "execution_count": 9,
      "outputs": []
    },
    {
      "cell_type": "markdown",
      "source": [
        "6)(0-100) arasında eşit aralıklı 5 sayı üretiniz"
      ],
      "metadata": {
        "id": "t8LE28WoLoft"
      }
    },
    {
      "cell_type": "code",
      "source": [
        "result = np.linspace(0,100,5)"
      ],
      "metadata": {
        "id": "PhmR0QaDPnbx"
      },
      "execution_count": 10,
      "outputs": []
    },
    {
      "cell_type": "markdown",
      "source": [
        "7) (10-30) arasında rastgele  5 tane tam sayı üret"
      ],
      "metadata": {
        "id": "ocC8mzbqNNkO"
      }
    },
    {
      "cell_type": "code",
      "source": [
        "result =np.random.randint(10,30,5)"
      ],
      "metadata": {
        "id": "QKan_JHdP1Ti"
      },
      "execution_count": 11,
      "outputs": []
    },
    {
      "cell_type": "markdown",
      "source": [
        "8) [-1 ile 1 ] arasında 10 adet  sayı üret"
      ],
      "metadata": {
        "id": "HfPA19PuNTkb"
      }
    },
    {
      "cell_type": "code",
      "source": [
        "result = np.random.rand(10)"
      ],
      "metadata": {
        "id": "vCQta8vBP9yB"
      },
      "execution_count": 12,
      "outputs": []
    },
    {
      "cell_type": "markdown",
      "source": [
        "9) (3x5) boyutlarında (10-50) arasında rastgele bir matris oluşturunuz"
      ],
      "metadata": {
        "id": "BX3Xw3BbNbuP"
      }
    },
    {
      "cell_type": "code",
      "source": [
        "result =np.random.randint(10,50,15).reshape(3,5)"
      ],
      "metadata": {
        "id": "BpSTYvzHQKRe"
      },
      "execution_count": 13,
      "outputs": []
    },
    {
      "cell_type": "markdown",
      "source": [
        "10)üretilen matrisin satır ve sütün sayıları toplamlarını hesaplayınız"
      ],
      "metadata": {
        "id": "JEps48vfNp3A"
      }
    },
    {
      "cell_type": "code",
      "source": [
        "matris =np.random.randint(10,50,15).reshape(3,5)\n",
        "rowTotal = matris.sum(axis =1)\n",
        "colTotral=matris.sum(axis=0)\n",
        "print(matris)\n",
        "print(rowTotal)\n",
        "print(colTotral)"
      ],
      "metadata": {
        "colab": {
          "base_uri": "https://localhost:8080/"
        },
        "id": "xf2aVqjQQnzp",
        "outputId": "9207764c-aa1c-46fa-f9a6-65dcfeb60441"
      },
      "execution_count": 15,
      "outputs": [
        {
          "output_type": "stream",
          "name": "stdout",
          "text": [
            "[[32 44 27 46 20]\n",
            " [18 43 19 27 35]\n",
            " [12 44 17 41 14]]\n",
            "[169 142 128]\n",
            "[ 62 131  63 114  69]\n"
          ]
        }
      ]
    },
    {
      "cell_type": "markdown",
      "source": [
        "11)üretilen  martrisin  en büyük ve en küçük ve ortalaması nedir"
      ],
      "metadata": {
        "id": "xaMFtRXxNyz6"
      }
    },
    {
      "cell_type": "code",
      "source": [
        "result = matris.max()\n",
        "result = matris.min()\n",
        "result = matris.mean()\n"
      ],
      "metadata": {
        "id": "adFL6Yw3RSJJ"
      },
      "execution_count": 16,
      "outputs": []
    },
    {
      "cell_type": "markdown",
      "source": [
        "12- üretilen matrisin  en büyük değerinin  indeksi kaçtır ="
      ],
      "metadata": {
        "id": "t5ySPgmJN7nZ"
      }
    },
    {
      "cell_type": "code",
      "source": [
        "result=matris.argmax()\n",
        "result=matris.argmin()"
      ],
      "metadata": {
        "id": "0ucVrokxRg0C"
      },
      "execution_count": 17,
      "outputs": []
    },
    {
      "cell_type": "markdown",
      "source": [
        "13-(10-20) arasındaki  sayıları içeren dizinin ilk 3 elemanını seçiniz"
      ],
      "metadata": {
        "id": "6ZKPikleOGcf"
      }
    },
    {
      "cell_type": "code",
      "source": [
        "arr = np.arange(10,20)\n",
        "print(arr)\n",
        "result=arr[:3]"
      ],
      "metadata": {
        "colab": {
          "base_uri": "https://localhost:8080/"
        },
        "id": "dOIRbcEhRsTh",
        "outputId": "09898f6e-720e-488c-9057-6edcc366e236"
      },
      "execution_count": 20,
      "outputs": [
        {
          "output_type": "stream",
          "name": "stdout",
          "text": [
            "[10 11 12 13 14 15 16 17 18 19]\n"
          ]
        }
      ]
    },
    {
      "cell_type": "markdown",
      "source": [
        "14)üretilen  dizinin elemanlarını tersten yazdırınız"
      ],
      "metadata": {
        "id": "l_2ZTgxpOVQ9"
      }
    },
    {
      "cell_type": "code",
      "source": [
        "result =arr[::-1]"
      ],
      "metadata": {
        "id": "CZdX_q93SRSv"
      },
      "execution_count": 21,
      "outputs": []
    },
    {
      "cell_type": "markdown",
      "source": [],
      "metadata": {
        "id": "OsbVwRdfSfbq"
      }
    },
    {
      "cell_type": "code",
      "source": [],
      "metadata": {
        "id": "ardcvHPhShfl"
      },
      "execution_count": null,
      "outputs": []
    },
    {
      "cell_type": "markdown",
      "source": [
        "15)üretilen matrisin ilk satırını çiziniz"
      ],
      "metadata": {
        "id": "jq7GrL-jObUh"
      }
    },
    {
      "cell_type": "code",
      "source": [
        "result =matris[0]"
      ],
      "metadata": {
        "id": "bmgnspetS6Wz"
      },
      "execution_count": 22,
      "outputs": []
    },
    {
      "cell_type": "markdown",
      "source": [
        "16) üretilen  matrisin 2.satır  3.stundaki elemanı hangisidir?"
      ],
      "metadata": {
        "id": "USpZpD7YOepf"
      }
    },
    {
      "cell_type": "code",
      "source": [
        "resul =matris[1,2]"
      ],
      "metadata": {
        "id": "7qr4X4q5TbUf"
      },
      "execution_count": 24,
      "outputs": []
    },
    {
      "cell_type": "markdown",
      "source": [
        "17) üretilen  matrisin tüm satırlardaki ilk elamanı seçiniz"
      ],
      "metadata": {
        "id": "9NSw936uOo53"
      }
    },
    {
      "cell_type": "code",
      "source": [
        "result =matris[:,0]"
      ],
      "metadata": {
        "id": "mqkNUpjgT6T1"
      },
      "execution_count": 25,
      "outputs": []
    },
    {
      "cell_type": "markdown",
      "source": [
        "18)üretilen matrisin  her bir elemanın  karesini alınız"
      ],
      "metadata": {
        "id": "NNroanCwOwct"
      }
    },
    {
      "cell_type": "code",
      "source": [
        "result =matris **2"
      ],
      "metadata": {
        "id": "Nl0Otli8UI4K"
      },
      "execution_count": 26,
      "outputs": []
    },
    {
      "cell_type": "markdown",
      "source": [
        "19)üretilen matrisin  elemanlarını  hangisi pozitif  çift sayıdır? Aralığı (-50,+50) arasında yapınız"
      ],
      "metadata": {
        "id": "PVF7wZCKO3bA"
      }
    },
    {
      "cell_type": "code",
      "source": [
        "result =matris[matris & 2 == 0]\n",
        "print(result)"
      ],
      "metadata": {
        "colab": {
          "base_uri": "https://localhost:8080/"
        },
        "id": "cxqufxbJSzrC",
        "outputId": "5f151f2f-1c56-4e14-8017-2a05d1baaf0b"
      },
      "execution_count": 27,
      "outputs": [
        {
          "output_type": "stream",
          "name": "stdout",
          "text": [
            "[32 44 20 12 44 17 41]\n"
          ]
        }
      ]
    }
  ]
}